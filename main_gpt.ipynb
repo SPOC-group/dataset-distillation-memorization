{
 "cells": [
  {
   "cell_type": "code",
   "execution_count": 3,
   "id": "65baa662",
   "metadata": {},
   "outputs": [],
   "source": [
    "import random\n",
    "import torch\n",
    "import pickle\n",
    "import torch.nn as nn\n",
    "import torch.optim as optim\n",
    "import matplotlib.pyplot as plt\n",
    "import torch.nn.functional as F\n",
    "from torch.utils.data import Dataset, DataLoader\n",
    "from transformers import GPT2Tokenizer, GPT2ForSequenceClassification, AdamW\n",
    "from tqdm.notebook import tqdm\n",
    "from sklearn.model_selection import train_test_split\n",
    "from tqdm.notebook import trange\n"
   ]
  },
  {
   "cell_type": "code",
   "execution_count": 5,
   "id": "76c0bf06",
   "metadata": {},
   "outputs": [],
   "source": [
    "# the file needs to be in the same directory as this notebook, to avoid cluttering the notebook with plotting code\n",
    "from plotting_helper import *"
   ]
  },
  {
   "cell_type": "markdown",
   "id": "2847bdbf",
   "metadata": {},
   "source": [
    "# Accessing held out memorized data from a finetuned GPT2 classifier\n",
    "\n",
    "In this section, we apply the same principle, training on a subset of the teachers memorized data, to a different token-based architecture (GPT-2 Classifier) with more classes (1000) and memorized sentences (6000).\n",
    "\n",
    "We use a pre-trained GPT2 to memorize random sentences, which come in the form random triplets of numbers up to 1000, e.g. \"234 300 3\", and are randomly assigned to one out of 1000 classes."
   ]
  },
  {
   "cell_type": "code",
   "execution_count": 14,
   "id": "a238afe7",
   "metadata": {},
   "outputs": [],
   "source": [
    "# Dataset class: convert tuple of numbers to tokenized input\n",
    "class TupleDataset(Dataset):\n",
    "    def __init__(self, tuples, labels, tokenizer, max_len=10):\n",
    "        self.tuples = tuples\n",
    "        self.labels = labels\n",
    "        self.tokenizer = tokenizer\n",
    "        self.max_len = max_len\n",
    "\n",
    "    def __len__(self):\n",
    "        return len(self.tuples)\n",
    "\n",
    "    def __getitem__(self, idx):\n",
    "        text = \" \".join(map(str, self.tuples[idx]))\n",
    "        inputs = self.tokenizer(\n",
    "            text,\n",
    "            max_length=self.max_len,\n",
    "            padding='max_length',\n",
    "            truncation=True,\n",
    "            return_tensors='pt'\n",
    "        )\n",
    "        # Squeeze batch dim and return\n",
    "        item = {k: v.squeeze(0) for k, v in inputs.items()}\n",
    "        item['labels'] = torch.tensor(self.labels[idx], dtype=torch.long)\n",
    "        return item"
   ]
  },
  {
   "cell_type": "markdown",
   "id": "8524fede",
   "metadata": {},
   "source": [
    "Using the standard training pipeline, we finetune a GPT2 classifier (that would otherwise be e.g. used for sentiment classification) on the artificial unstructured data we created. After some epochs, the accuracy reaches almost perfect accuracy. We also use the standard tokenizer and do not impose a special structure on the sentences."
   ]
  },
  {
   "cell_type": "code",
   "execution_count": null,
   "id": "6f316a56",
   "metadata": {},
   "outputs": [
    {
     "name": "stdout",
     "output_type": "stream",
     "text": [
      "Using device: cuda\n"
     ]
    },
    {
     "name": "stderr",
     "output_type": "stream",
     "text": [
      "Some weights of GPT2ForSequenceClassification were not initialized from the model checkpoint at gpt2 and are newly initialized: ['score.weight']\n",
      "You should probably TRAIN this model on a down-stream task to be able to use it for predictions and inference.\n",
      "Exception ignored in: <function tqdm.__del__ at 0x7faf9a8e8280>\n",
      "Traceback (most recent call last):\n",
      "  File \"/home/fbehrens/venvs/gpu-multitask/lib/python3.10/site-packages/tqdm/std.py\", line 1148, in __del__\n",
      "    self.close()\n",
      "  File \"/home/fbehrens/venvs/gpu-multitask/lib/python3.10/site-packages/tqdm/notebook.py\", line 279, in close\n",
      "    self.disp(bar_style='danger', check_delay=False)\n",
      "AttributeError: 'tqdm_notebook' object has no attribute 'disp'\n",
      "Exception ignored in: <function tqdm.__del__ at 0x7faf9a8e8280>\n",
      "Traceback (most recent call last):\n",
      "  File \"/home/fbehrens/venvs/gpu-multitask/lib/python3.10/site-packages/tqdm/std.py\", line 1148, in __del__\n",
      "    self.close()\n",
      "  File \"/home/fbehrens/venvs/gpu-multitask/lib/python3.10/site-packages/tqdm/notebook.py\", line 279, in close\n",
      "    self.disp(bar_style='danger', check_delay=False)\n",
      "AttributeError: 'tqdm_notebook' object has no attribute 'disp'\n"
     ]
    },
    {
     "name": "stdout",
     "output_type": "stream",
     "text": [
      "Model and tokenizer saved to random_data_classification_teacher.pth\n",
      "Dataset saved to dataset.pkl\n"
     ]
    }
   ],
   "source": [
    "device = torch.device('cuda' if torch.cuda.is_available() else 'cpu')\n",
    "print(f'Using device: {device}')\n",
    "\n",
    "# Create random dataset\n",
    "num_samples = 6000\n",
    "tuple_len = 3\n",
    "num_labels = 1000\n",
    "tuples = [[random.randint(1, 1000) for _ in range(tuple_len)] for _ in range(num_samples)]\n",
    "labels = [random.randint(0, num_labels-1) for _ in range(num_samples)]\n",
    "\n",
    "tokenizer = GPT2Tokenizer.from_pretrained('gpt2')\n",
    "tokenizer.padding_side = \"left\"\n",
    "tokenizer.pad_token = tokenizer.eos_token\n",
    "\n",
    "\n",
    "dataset = TupleDataset(tuples, labels, tokenizer)\n",
    "dataloader = DataLoader(dataset, batch_size=64, shuffle=True)\n",
    "\n",
    "# Load GPT2ForSequenceClassification and resize token embeddings if pad token added\n",
    "model = GPT2ForSequenceClassification.from_pretrained('gpt2', num_labels=num_labels)\n",
    "model.config.pad_token_id = tokenizer.pad_token_id\n",
    "model.resize_token_embeddings(len(tokenizer))\n",
    "model.to(device)\n",
    "\n",
    "optimizer = AdamW(model.parameters(), lr=5e-4)\n",
    "\n",
    "\n",
    "model.train()\n",
    "\n",
    "num_epochs = 100\n",
    "pbar = range(num_epochs)\n",
    "for epoch in pbar:\n",
    "    total_loss = 0\n",
    "    correct = 0\n",
    "    total_samples = 0\n",
    "    \n",
    "    for batch in dataloader:\n",
    "        batch = {k: v.to(device) for k, v in batch.items()}\n",
    "        optimizer.zero_grad()\n",
    "        outputs = model(**batch)\n",
    "        loss, logits = outputs[:2]\n",
    "        total_loss += loss.item()\n",
    "        loss.backward()\n",
    "        torch.nn.utils.clip_grad_norm_(model.parameters(), 1.0)\n",
    "        optimizer.step()\n",
    "        \n",
    "        preds = logits.argmax(axis=-1)\n",
    "        correct += (preds == batch['labels']).sum().item()\n",
    "        total_samples += batch['labels'].size(0)\n",
    "    \n",
    "    avg_epoch_loss = total_loss / len(dataloader)\n",
    "    accuracy = correct / total_samples\n",
    "    #pbar.set_postfix(loss=f\"{avg_epoch_loss:.4f}\", acc=f\"{accuracy:.2%}\")\n",
    "    print(accuracy)\n",
    "\n",
    "model_save_path = \"random_data_classification_teacher.pth\"\n",
    "model.save_pretrained(model_save_path)\n",
    "tokenizer.save_pretrained(model_save_path)\n",
    "\n",
    "print(f\"Model and tokenizer saved to {model_save_path}\")\n",
    "\n",
    "# Save dataset (the tuples and labels lists)\n",
    "dataset_save_path = \"dataset.pkl\"\n",
    "with open(dataset_save_path, \"wb\") as f:\n",
    "    pickle.dump({\"tuples\": tuples, \"labels\": labels}, f)\n",
    "print(f\"Dataset saved to {dataset_save_path}\")\n"
   ]
  },
  {
   "cell_type": "markdown",
   "id": "f7e51ff9",
   "metadata": {},
   "source": [
    "After successful training, when we memorize the sentences up to $>99\\%$ accuracy, we extract the teacher's logits on its training data and create soft labels, again with temperature $\\tau =20$. "
   ]
  },
  {
   "cell_type": "code",
   "execution_count": 19,
   "id": "b804920a",
   "metadata": {},
   "outputs": [],
   "source": [
    "class DistillDataset(Dataset):\n",
    "        def __init__(self, base_dataset, soft_labels, indices):\n",
    "            self.inputs = [base_dataset[i] for i in indices]\n",
    "            self.soft_labels = [soft_labels[i] for i in indices]\n",
    "\n",
    "        def __len__(self):\n",
    "            return len(self.inputs)\n",
    "\n",
    "        def __getitem__(self, idx):\n",
    "            item = {k: v.clone() for k, v in self.inputs[idx].items()}\n",
    "            item['soft_labels'] = self.soft_labels[idx]\n",
    "            return item\n",
    "\n",
    "temp = 20.0\n",
    "teacher = model.eval() \n",
    "teacher_soft_labels = []\n",
    "\n",
    "with torch.no_grad():\n",
    "    for batch in DataLoader(dataset, batch_size=12):\n",
    "        inputs = {k: v.to(device) for k, v in batch.items() if k != 'labels'}\n",
    "        outputs = teacher(**inputs)\n",
    "        logits = outputs.logits\n",
    "        teacher_soft_labels.extend(F.softmax(logits.detach().cpu() / temp, dim=-1))\n"
   ]
  },
  {
   "cell_type": "markdown",
   "id": "2b546eca",
   "metadata": {},
   "source": [
    "This time we train different the students on different fractions of `dataset`, which we call $\\rho = \\{0.2,0.5,0.8\\}$.\n",
    "As in the 2D-example we evaluate the training accuracy and the test accuracy -- both of which are data that was memorized by the teacher. This time we leave out the validation, but that would again trivially be at $0.1\\%$."
   ]
  },
  {
   "cell_type": "code",
   "execution_count": null,
   "id": "fdcb49c3",
   "metadata": {},
   "outputs": [
    {
     "name": "stderr",
     "output_type": "stream",
     "text": [
      "Some weights of GPT2ForSequenceClassification were not initialized from the model checkpoint at gpt2 and are newly initialized: ['score.weight']\n",
      "You should probably TRAIN this model on a down-stream task to be able to use it for predictions and inference.\n"
     ]
    }
   ],
   "source": [
    "student_epochs = 200\n",
    "batch_size = 32\n",
    "\n",
    "student_results = []\n",
    "\n",
    "for training_size in [0.2,0.5,0.8]:\n",
    "    test_size = 1 - training_size\n",
    "\n",
    "    all_indices = list(range(len(dataset)))\n",
    "    train_idx, test_idx = train_test_split(all_indices, test_size=test_size, random_state=12)\n",
    "\n",
    "    train_dataset = DistillDataset(dataset, teacher_soft_labels, train_idx)\n",
    "    train_loader = DataLoader(train_dataset, batch_size=batch_size, shuffle=True)\n",
    "\n",
    "    test_dataset = torch.utils.data.Subset(dataset, test_idx)\n",
    "    test_loader = DataLoader(test_dataset, batch_size=batch_size)\n",
    "\n",
    "    student = GPT2ForSequenceClassification.from_pretrained('gpt2', num_labels=num_labels)\n",
    "    student.config.pad_token_id = tokenizer.pad_token_id\n",
    "    student.resize_token_embeddings(len(tokenizer))\n",
    "    student.to(device)\n",
    "\n",
    "    optimizer = AdamW(student.parameters(), lr=5e-4)\n",
    "    student.train()\n",
    "    criterion = torch.nn.CrossEntropyLoss()\n",
    "    train_accuracies = []\n",
    "    test_accuracies = []\n",
    "    train_losses = []\n",
    "    pbar = range(student_epochs)\n",
    "    for epoch in pbar:\n",
    "        student.train()\n",
    "        total_loss = 0\n",
    "        total_correct = 0\n",
    "\n",
    "        for batch in train_loader:\n",
    "            inputs = {k: v.to(device) for k, v in batch.items() if k not in ['labels','soft_labels']}\n",
    "            soft_targets = batch['soft_labels'].to(device)\n",
    "            labels = batch['labels'].to(device)\n",
    "\n",
    "            optimizer.zero_grad()\n",
    "            outputs = student(**inputs)\n",
    "            student_logits = outputs.logits\n",
    "            \n",
    "            loss = criterion(student_logits, soft_targets)\n",
    "            \n",
    "            loss.backward()\n",
    "            optimizer.step()\n",
    "            total_loss += loss.item()\n",
    "            total_correct += (student_logits.argmax(dim=-1) == labels).sum().item()\n",
    "\n",
    "        avg_loss = total_loss / len(train_loader)\n",
    "        train_accuracy =  total_correct / len(train_loader.dataset)\n",
    "        train_accuracies.append(train_accuracy)\n",
    "        train_losses.append(avg_loss)\n",
    "\n",
    "        student.eval()\n",
    "        correct = 0\n",
    "        total = 0\n",
    "\n",
    "        with torch.no_grad():\n",
    "            for batch in test_loader:\n",
    "                inputs = {k: v.to(device) for k, v in batch.items()}\n",
    "                labels = batch['labels'].to(device)\n",
    "\n",
    "                outputs = student(**inputs)\n",
    "                preds = torch.argmax(outputs.logits, dim=-1)\n",
    "                correct += (preds == labels).sum().item()\n",
    "                total += labels.size(0)\n",
    "\n",
    "        test_accuracy = correct / total\n",
    "        test_accuracies.append(test_accuracy)\n",
    "        print(test_accuracy)\n",
    "        \n",
    "        #pbar.set_postfix(loss=f\"{avg_loss:.4f}\", train_acc=f\"{train_accuracy:.2%}\", test_acc=f\"{test_accuracy:.2%}\")\n",
    "\n",
    "    student.eval()\n",
    "    correct = 0\n",
    "    total = 0\n",
    "\n",
    "    with torch.no_grad():\n",
    "        for batch in test_loader:\n",
    "            inputs = {k: v.to(device) for k, v in batch.items() if k != 'labels'}\n",
    "            labels = batch['labels'].to(device)\n",
    "            logits = student(**inputs).logits\n",
    "            preds = logits.argmax(dim=-1)\n",
    "            correct += (preds == labels).sum().item()\n",
    "            total += labels.size(0)\n",
    "\n",
    "    test_accuracy = correct / total\n",
    "    print(f\"Student accuracy on 20% held-out: {test_accuracy:.2%}\")\n",
    "\n",
    "    student_model_save_path = f\"random_data_classification_student_rho={1-test_size:.2f}.pth\"\n",
    "    student.save_pretrained(student_model_save_path)\n",
    "    \n",
    "    student_results.append({\n",
    "        'training_size': training_size,\n",
    "        'test_size': test_size,\n",
    "        'test_accuracy': test_accuracy,\n",
    "        'train_accuracy': train_accuracy,\n",
    "        'train_accuracies': train_accuracies,\n",
    "        'test_accuracies': test_accuracies,\n",
    "        'train_losses': train_losses,\n",
    "        'train_loss': avg_loss,\n",
    "        'model': student,\n",
    "        'tokenizer': tokenizer\n",
    "    })\n",
    "\n",
    "    print(f\"Model and tokenizer saved to {student_model_save_path}\")\n",
    "    print('next')"
   ]
  },
  {
   "cell_type": "code",
   "execution_count": 14,
   "id": "2c5d82e1",
   "metadata": {},
   "outputs": [
    {
     "name": "stdout",
     "output_type": "stream",
     "text": [
      "Test size: 0.8, Test accuracy: 23.85%, Train accuracy: 99.92%\n",
      "Test size: 0.5, Test accuracy: 58.63%, Train accuracy: 99.80%\n",
      "Test size: 0.19999999999999996, Test accuracy: 72.83%, Train accuracy: 99.79%\n"
     ]
    },
    {
     "data": {
      "text/plain": [
       "<matplotlib.legend.Legend at 0x7f1b302a30a0>"
      ]
     },
     "execution_count": 14,
     "metadata": {},
     "output_type": "execute_result"
    },
    {
     "data": {
      "image/png": "[encoded data removed]",
      "text/plain": [
       "<Figure size 640x480 with 1 Axes>"
      ]
     },
     "metadata": {},
     "output_type": "display_data"
    }
   ],
   "source": [
    "colors = ['tab:blue', 'tab:orange', 'tab:green']\n",
    "\n",
    "for color, res in zip(colors,student_results):\n",
    "    print(f\"Test size: {res['test_size']}, Test accuracy: {res['test_accuracy']:.2%}, Train accuracy: {res['train_accuracy']:.2%}\")\n",
    "    plt.plot(res['train_accuracies'], c=color, linestyle='dotted')\n",
    "    plt.plot(res['test_accuracies'], c=color)\n",
    "    plt.plot([],[],c=color, label=res['training_size'])\n",
    "    \n",
    "plt.xlabel('epochs')\n",
    "plt.ylabel('accuracy')\n",
    "plt.plot([],[],c='black', label='test accuracy')\n",
    "plt.plot([],[],c='black', linestyle='dotted', label='train accuracy')\n",
    "plt.legend(title=r'$\\rho$')\n",
    "plt.savefig('GPT2_accuracy.png', bbox_inches='tight')"
   ]
  },
  {
   "cell_type": "markdown",
   "id": "ff9caa85",
   "metadata": {},
   "source": [
    "While the accuracy of random guessing should be $0.1\\%$ in expectation, as there are $1000$ classes, training on $80\\%$ of the data leads to an accuracy of *more than $60\\%$* on the held out data.\n",
    "Here the soft labels are containing a lot of information that is used by the student. \n",
    "\n",
    "Even though we can demonstrate this phenomenon well on GPT2, larger scale experiments that go beyond the three models we trained are costly.\n",
    "In our final experiment we therefore turn to ReLU MLPs with a single hidden layer."
   ]
  }
 ],
 "metadata": {
  "kernelspec": {
   "display_name": "Python 3 (ipykernel)",
   "language": "python",
   "name": "python3"
  },
  "language_info": {
   "codemirror_mode": {
    "name": "ipython",
    "version": 3
   },
   "file_extension": ".py",
   "mimetype": "text/x-python",
   "name": "python",
   "nbconvert_exporter": "python",
   "pygments_lexer": "ipython3",
   "version": "3.10.17"
  }
 },
 "nbformat": 4,
 "nbformat_minor": 5
}
