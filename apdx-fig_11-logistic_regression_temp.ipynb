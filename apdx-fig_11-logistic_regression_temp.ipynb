{
 "cells": [
  {
   "cell_type": "code",
   "execution_count": 2,
   "metadata": {},
   "outputs": [],
   "source": [
    "from config import *\n",
    "import matplotlib.pyplot as plt\n",
    "import matplotlib.gridspec as gridspec\n",
    "import numpy as np"
   ]
  },
  {
   "cell_type": "code",
   "execution_count": 3,
   "metadata": {},
   "outputs": [],
   "source": [
    "df = load_result_table(project=f\"{wandb_username}/fig_1a_linear_regression\")\n",
    "df = df[df.state == 'finished']\n",
    "df_orig = df.copy()"
   ]
  },
  {
   "cell_type": "code",
   "execution_count": null,
   "metadata": {},
   "outputs": [],
   "source": [
    "constraints = {\n",
    "    'data_num_labels': 2,\n",
    "    'data_input_dim': 1000,\n",
    "}\n",
    "\n",
    "fig = plt.figure(figsize=(12, 3))\n",
    "gs = gridspec.GridSpec(1, 4, width_ratios=[1, 1, 1, 0.05], wspace=0.3)\n",
    "\n",
    "axes = [fig.add_subplot(gs[i]) for i in range(3)]\n",
    "cbar_ax = fig.add_subplot(gs[3]) \n",
    "\n",
    "a = filter(df, constraints)\n",
    "a = a.replace('NaN', None)\n",
    "\n",
    "acc_cmap = plt.get_cmap('Spectral')\n",
    "\n",
    "i = 0\n",
    "for temp, g in a.groupby('student_temperature'):\n",
    "    if temp not in [0.5, 1.0, 10.0]:\n",
    "        continue\n",
    "    \n",
    "    g = g.groupby(['student_train_frac', 'data_num_samples_per_class']).mean(numeric_only=True).reset_index()\n",
    "    \n",
    "    x_vals = sorted(g['data_num_samples_per_class'].unique())\n",
    "    y_vals = sorted(g['student_train_frac'].unique())\n",
    "\n",
    "    X, Y = np.meshgrid(\n",
    "        np.array(x_vals) * constraints['data_num_labels'] / constraints['data_input_dim'] / 2,\n",
    "        y_vals\n",
    "    )\n",
    "\n",
    "    Z_train = g.pivot(index='student_train_frac', columns='data_num_samples_per_class', values='student_test_acc').loc[y_vals, x_vals].values\n",
    "\n",
    "    pc = axes[i].pcolormesh(X, Y, Z_train, cmap=acc_cmap, shading='auto', vmin=0, vmax=1)\n",
    "    axes[i].set_title(r\"$\\tau\"+f\"={temp}$\")\n",
    "    axes[i].set_xlabel(r\"$\\alpha$\")\n",
    "    axes[i].set_xlim(0.05, 1.5)\n",
    "    i += 1\n",
    "\n",
    "axes[0].set_ylabel(r\"$\\rho$\")\n",
    "fig.colorbar(pc, cax=cbar_ax, label=\"Test Accuracy\")\n",
    "fig.savefig(FIGURE_DIR / \"multiclass_logistic_regression_different_temp.pdf\", dpi=300, bbox_inches='tight')"
   ]
  }
 ],
 "metadata": {
  "kernelspec": {
   "display_name": "Python 3 (ipykernel)",
   "language": "python",
   "name": "python3"
  }
 },
 "nbformat": 4,
 "nbformat_minor": 2
}
