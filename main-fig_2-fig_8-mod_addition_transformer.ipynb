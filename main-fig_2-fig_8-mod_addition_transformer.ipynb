{
 "cells": [
  {
   "cell_type": "code",
   "execution_count": null,
   "metadata": {},
   "outputs": [],
   "source": [
    "from config import *\n",
    "import numpy as np\n",
    "import matplotlib.pyplot as plt"
   ]
  },
  {
   "cell_type": "code",
   "execution_count": null,
   "metadata": {},
   "outputs": [],
   "source": [
    "project = f'{wandb_username}/distillation__main-fig_2-fig_8'\n",
    "df = load_result_table(project)"
   ]
  },
  {
   "cell_type": "code",
   "execution_count": null,
   "metadata": {},
   "outputs": [],
   "source": [
    "df_orig = df.copy()"
   ]
  },
  {
   "cell_type": "markdown",
   "metadata": {},
   "source": [
    "# Plot the training loss curves of the original teachers"
   ]
  },
  {
   "cell_type": "code",
   "execution_count": null,
   "metadata": {},
   "outputs": [],
   "source": [
    "a = df[df.transfer_train_fraction.isna()]\n",
    "a = a[a.state == 'finished']\n",
    "original_df = a[['name','num_epochs','test_accuracy']]#.set_index('name')"
   ]
  },
  {
   "cell_type": "code",
   "execution_count": null,
   "metadata": {},
   "outputs": [],
   "source": [
    "fig, ax = plt.subplots(1, 1, figsize=(4, 3))\n",
    "\n",
    "\n",
    "for i,num_epochs in enumerate(sorted(a.num_epochs.unique())):\n",
    "        \n",
    "        b = a[a.num_epochs == num_epochs]\n",
    "        run_data = b.iloc[1]\n",
    "        run = api.run(f\"{project}/{run_data.run_id}\")\n",
    "        history = run.history()  \n",
    "\n",
    "        test_acc = history[\"test_accuracy\"].dropna()\n",
    "        train_acc = history[\"train_accuracy\"].dropna()\n",
    "        \n",
    "        x, y = len(test_acc)-1, 0.8\n",
    "        ax.scatter(x, y, s=300, facecolors='white', edgecolors='black', zorder=5)\n",
    "        ax.text(x, y, i+1, ha='center', va='center', color='black', fontsize=10, weight='bold', zorder=6)\n",
    "        ax.axvline(x, color='grey', lw=2, ls='--',zorder=-10)\n",
    "        \n",
    "        ax.plot(test_acc.values, color=metric_styles['teacher_val_acc']['color'], lw=2 )\n",
    "        ax.plot(train_acc.values, color=metric_styles['teacher_train_acc']['color'], lw=2)\n",
    "        ax.plot(len(test_acc)-1, test_acc.values[-1], marker='*', color=metric_styles['teacher_val_acc']['color'], markersize=10)\n",
    "        ax.plot(len(train_acc)-1, train_acc.values[-1], color=metric_styles['teacher_train_acc']['color'], markersize=10)\n",
    "        \n",
    "        \n",
    "ax.plot([],[], marker='*', color=metric_styles['teacher_val_acc']['color'], markersize=10,label=metric_styles['teacher_val_acc']['label'],lw=2)\n",
    "ax.plot([],[], color=metric_styles['teacher_train_acc']['color'], markersize=10,label=metric_styles['teacher_train_acc']['label'],lw=2)\n",
    "ax.legend()\n",
    "ax.set_xlabel('training steps')\n",
    "ax.set_ylabel('accuracy')\n",
    "ax.set_title('teacher training on modular addition')\n",
    "ax.text(-0.02, 1.12 , f'(A)', transform=ax.transAxes, fontsize=12, va='top', ha='right',fontweight='bold')\n",
    "plt.savefig(FIGURE_DIR / f'{project.split(\"/\")[-1]}-teacher_training_modular_addition.pdf', bbox_inches='tight')"
   ]
  },
  {
   "cell_type": "markdown",
   "metadata": {},
   "source": [
    "# Plot the student accruacies as a funtion of rho for every temperature"
   ]
  },
  {
   "cell_type": "code",
   "execution_count": null,
   "metadata": {},
   "outputs": [],
   "source": [
    "a = df[df.state == 'finished']\n",
    "a = a[~a.transfer_train_fraction.isna()]\n",
    "\n",
    "fig, axes = plt.subplots(3,3, figsize=(8, 6), sharex=True, sharey=True)\n",
    "for row_idx, num_epochs in enumerate(original_df['num_epochs'].unique()):\n",
    "    \n",
    "    for col_idx, (temp, g) in enumerate(a.groupby('transfer_learning_temp')):\n",
    "        \n",
    "        ax = axes[row_idx, 2-col_idx]\n",
    "        if row_idx == 0:\n",
    "            ax.set_title(r\"$\\tau=\"+f\"{temp}$\")\n",
    "        \n",
    "        \n",
    "        g = g[g.transfer_learning_from.isin(original_df[original_df['num_epochs'] == num_epochs].name.values)]\n",
    "        \n",
    "        test_acc = g.groupby('transfer_train_fraction')['test_accuracy'].mean()\n",
    "        train_acc = g.groupby('transfer_train_fraction')['train_accuracy'].mean()\n",
    "        mem_acc = g.groupby('transfer_train_fraction')['mem_test_accuracy'].mean()\n",
    "        teacher_val = original_df[original_df['num_epochs'] == num_epochs].test_accuracy.mean()\n",
    "        \n",
    "        ax.axhline(teacher_val, color=metric_styles['teacher_val_acc']['color'],lw=2)\n",
    "        # Desired data coordinate\n",
    "        ax.scatter([0],[teacher_val], color=metric_styles['teacher_val_acc']['color'], marker='*', s=100,label=metric_styles['teacher_val_acc']['label'])\n",
    "        ax.plot(train_acc.index, train_acc.values,  color=metric_styles['student_train_acc']['color'], label=metric_styles['student_train_acc']['label'],lw=2)\n",
    "        ax.plot(mem_acc.index, mem_acc.values, color=metric_styles['student_test_acc']['color'],label=metric_styles['student_test_acc']['label'],marker='x',lw=2)\n",
    "        ax.plot(test_acc.index, test_acc.values, color=metric_styles['student_val_acc']['color'], label=metric_styles['student_val_acc']['label'],linestyle='--',marker='+',lw=2)\n",
    "\n",
    "        \n",
    "for ax in axes[-1]:\n",
    "    ax.set_xlabel(r\"$\\rho$\")\n",
    "for i, ax in enumerate(axes[:,0]):\n",
    "    ax.set_ylabel(\"accuracy\")\n",
    "    ax.text(\n",
    "    -0.25, 0.9, \n",
    "    i+1,\n",
    "    ha='left',\n",
    "    va='top',\n",
    "    fontsize=10,\n",
    "    color='black',\n",
    "    transform=ax.transAxes,\n",
    "    bbox=dict(facecolor='white', edgecolor='black', boxstyle='circle,pad=0.3')\n",
    ")\n",
    "    \n",
    "axes[-1,0].legend()\n",
    "axes[0,0].text(0.05, 1.17 , f'(B)', transform=axes[0,0].transAxes, fontsize=12, va='top', ha='right',fontweight='bold')\n",
    "plt.savefig(FIGURE_DIR / f'{project.split(\"/\")[-1]}-student_training_modular_addition.pdf', bbox_inches='tight')\n",
    "plt.show()"
   ]
  },
  {
   "cell_type": "code",
   "execution_count": null,
   "metadata": {},
   "outputs": [],
   "source": [
    "num_epochs = 10000\n",
    "\n",
    "\n",
    "fig, axes = plt.subplots(1, 2, figsize=(10, 4),sharex=True, sharey=True)\n",
    "\n",
    "a = df[df.state == 'finished']\n",
    "a = a[~a.transfer_train_fraction.isna()]\n",
    "a = a[a.transfer_learning_from.isin(original_df[original_df['num_epochs'] == num_epochs].name.values)]\n",
    "a = a[a.transfer_train_fraction==0.3][a.transfer_learning_temp==10.0]\n",
    "\n",
    "ax = axes[0]\n",
    "ax.set_title( \"small training set, large temperature\\n\" + r\"$\\rho=0.3; \\tau=10$\")\n",
    "for i in range(len(a)):\n",
    "        run_data = a.iloc[i]\n",
    "        run = api.run(f\"{project}/{run_data.run_id}\")\n",
    "        history = run.history()  \n",
    "\n",
    "        test_acc = history[\"test_accuracy\"].dropna()\n",
    "        train_acc = history[\"train_accuracy\"].dropna()\n",
    "        teacher_test_acc = history['mem_test_accuracy'].dropna()\n",
    "        \n",
    "        ax.plot(train_acc.values, color=metric_styles['student_train_acc']['color'])\n",
    "        ax.plot(teacher_test_acc.values, color=metric_styles['student_test_acc']['color'])\n",
    "        # put markers every 5th entry\n",
    "        ax.scatter(np.arange(0, len(train_acc), 10), teacher_test_acc.values[::10], color=metric_styles['student_test_acc']['color'], marker='x', s=10)\n",
    "        ax.plot(test_acc.values, color=metric_styles['student_val_acc']['color'],linestyle='--')\n",
    "        ax.scatter(np.arange(0, len(test_acc), 10), test_acc.values[::10], color=metric_styles['student_val_acc']['color'], marker='+', s=10)\n",
    "        \n",
    "a = df[df.state == 'finished']\n",
    "a = a[~a.transfer_train_fraction.isna()]\n",
    "a = a[a.transfer_learning_from.isin(original_df[original_df['num_epochs'] == num_epochs].name.values)]\n",
    "a = a[a.transfer_train_fraction==0.9][a.transfer_learning_temp==0.1]\n",
    "ax = axes[1]\n",
    "ax.set_title( \"large training set, small temperature\\n\" + r\"$\\rho=0.9; \\tau=0.1$\")\n",
    "for i in range(len(a)):\n",
    "        run_data = a.iloc[i]\n",
    "        run = api.run(f\"{project}/{run_data.run_id}\")\n",
    "        history = run.history()  \n",
    "\n",
    "        test_acc = history[\"test_accuracy\"].dropna()\n",
    "        train_acc = history[\"train_accuracy\"].dropna()\n",
    "        teacher_test_acc = history['mem_test_accuracy'].dropna()\n",
    "        \n",
    "        ax.plot(train_acc.values, color=metric_styles['student_train_acc']['color'])\n",
    "        ax.plot(teacher_test_acc.values, color=metric_styles['student_test_acc']['color'])\n",
    "        # put markers every 5th entry\n",
    "        ax.scatter(np.arange(0, len(train_acc), 10), teacher_test_acc.values[::10], color=metric_styles['student_test_acc']['color'], marker='x', s=10)\n",
    "        ax.plot(test_acc.values, color=metric_styles['student_val_acc']['color'],linestyle='--')\n",
    "        ax.scatter(np.arange(0, len(test_acc), 10), test_acc.values[::10], color=metric_styles['student_val_acc']['color'], marker='+', s=10)   \n",
    "\n",
    "ax.plot([],[], marker='+', color=metric_styles['student_val_acc']['color'], label=metric_styles['student_val_acc']['label'])\n",
    "ax.plot([],[], marker='x', color=metric_styles['student_test_acc']['color'], label=metric_styles['student_test_acc']['label'])\n",
    "ax.plot([],[], color=metric_styles['student_train_acc']['color'], label=metric_styles['student_train_acc']['label'])\n",
    "ax.legend()\n",
    "axes[0].set_xlabel('training steps')\n",
    "axes[1].set_xlabel('training steps')\n",
    "axes[0].set_ylabel('accuracy')\n",
    "\n",
    "fig.savefig(FIGURE_DIR / f'{project.split(\"/\")[-1]}-student_generalization_speed.pdf', bbox_inches='tight')"
   ]
  }
 ],
 "metadata": {
  "kernelspec": {
   "display_name": "Python 3 (ipykernel)",
   "language": "python",
   "name": "python3"
  },
  "language_info": {
   "codemirror_mode": {
    "name": "ipython",
    "version": 3
   },
   "file_extension": ".py",
   "mimetype": "text/x-python",
   "name": "python",
   "nbconvert_exporter": "python",
   "pygments_lexer": "ipython3",
   "version": "3.8.10"
  }
 },
 "nbformat": 4,
 "nbformat_minor": 2
}
